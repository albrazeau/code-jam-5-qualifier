{
 "cells": [
  {
   "cell_type": "code",
   "execution_count": 1,
   "metadata": {},
   "outputs": [],
   "source": [
    "from random import choice"
   ]
  },
  {
   "cell_type": "code",
   "execution_count": 7,
   "metadata": {},
   "outputs": [],
   "source": [
    "def generate_password(\n",
    "    password_length: int = 8,\n",
    "    has_symbols: bool = False,\n",
    "    has_uppercase: bool = False,\n",
    "    ignored_chars : list = [],\n",
    "    allowed_chars : list = []\n",
    ") -> str:\n",
    "    \"\"\"Generates a random password.\n",
    "\n",
    "    The password will be exactly `password_length` characters, but cannot be more than 1,000,000 characters.\n",
    "    If `has_symbols` is True, the password will contain at least one symbol, such as #, !, or @.\n",
    "    If `has_uppercase` is True, the password will contain at least one upper case letter.\n",
    "    If `ignored_chars` is used, characters in that list will not be in the password.\n",
    "    If `allowed_chars` is used, only charactrers from this list will be used, has_upper and has_symbols is satisfied.\n",
    "    `allowed_chars` and `ignored_chars` cannot be used together\n",
    "    \"\"\"\n",
    "    # Check for correct usage\n",
    "    assert password_length < 1000000, '`password_length` must be < 1,000,000 chars'\n",
    "    \n",
    "    # make sure both `allowed_chars` and `ignored_chars` are not being used\n",
    "    if ignored_chars:\n",
    "        if allowed_chars:\n",
    "            raise UserWarning('Using both `allowed_chars` and `ignored_chars` is not allowed')\n",
    "    \n",
    "    # make sure that the boolean conditions are met if using allowed_chars\n",
    "    if allowed_chars:\n",
    "        if has_symbols:\n",
    "            for c in allowed_chars:\n",
    "                assert c in has_all_params['symbols'], 'Error, mismatched arguments. You want a symbol but there is not a symbol in `allowed_chars`'\n",
    "        if has_uppercase:\n",
    "            for c in allowed_chars:\n",
    "                assert c in has_all_params['uppers'], 'Error, mismatched arguments. You want a uppercase but there is not a uppercase in `allowed_chars`'\n",
    "\n",
    "    lowers = 'abcdefghijklmnopqrstuvwxyz'\n",
    "    uppers = 'ABCDEFGHIJKLMNOPQRSTUVWXYZ'\n",
    "    symbols = '''`~!@#$%^&*()-_=+[{]}\\|/?.>,<;:'\"]'''\n",
    "    upchoice = lowers + uppers\n",
    "    symchoice = lowers + symbols\n",
    "    allchoice = lowers + uppers + symbols\n",
    "    \n",
    "    # has only symbols and lowers\n",
    "    if has_symbols:\n",
    "        if not has_uppercase:\n",
    "            password = ''\n",
    "            while not any(char in symchoice for char in password):\n",
    "                password = ''\n",
    "                if ignored_chars:\n",
    "                    for c in ignored_chars:\n",
    "                        symchoice = symchoice.replace(c, '')\n",
    "\n",
    "                    for i in range(password_length):            \n",
    "                        char = choice(symchoice)\n",
    "                        password += char\n",
    "\n",
    "                elif allowed_chars:\n",
    "                    for i in range(password_length):\n",
    "                        char = choice(allowed_chars)\n",
    "                        password += char\n",
    "\n",
    "                else: \n",
    "                    for i in range(password_length):\n",
    "                        char = choice(symchoice)\n",
    "                        password += char\n",
    "    \n",
    "    # has only uppers and lowers\n",
    "    if has_uppercase:\n",
    "        if not has_symbols:\n",
    "            password = ''\n",
    "            while not any(char in upchoice for char in password):\n",
    "                password = ''\n",
    "                if ignored_chars:\n",
    "                    for c in ignored_chars:\n",
    "                        upchoice = upchoice.replace(c, '')\n",
    "\n",
    "                    for i in range(password_length):            \n",
    "                        char = choice(upchoice)\n",
    "                        password += char\n",
    "\n",
    "                elif allowed_chars:\n",
    "                    for i in range(password_length):\n",
    "                        char = choice(allowed_chars)\n",
    "                        password += char\n",
    "\n",
    "                else: \n",
    "                    for i in range(password_length):\n",
    "                        char = choice(upchoice)\n",
    "                        password += char\n",
    "    \n",
    "    # has symbols, uppers and lowers\n",
    "    if has_symbols:\n",
    "        if has_uppercase:\n",
    "            check=True\n",
    "            while check:\n",
    "                password = ''\n",
    "                if ignored_chars:\n",
    "                    for c in ignored_chars:\n",
    "                        allchoice = allchoice.replace(c, '')\n",
    "\n",
    "                    for i in range(password_length):\n",
    "                        char = choice(allchoice)\n",
    "                        password += char\n",
    "\n",
    "                elif allowed_chars:\n",
    "                    for i in range(password_length):\n",
    "                        char = choice(allowed_chars)\n",
    "                        password += char\n",
    "\n",
    "                else: \n",
    "                    for i in range(password_length):\n",
    "                        char = choice(allchoice)\n",
    "                        password += char\n",
    "                        \n",
    "                if any(char in uppers for char in password):\n",
    "                    if any(char in symbols for char in password):\n",
    "                        check = False\n",
    "    \n",
    "    # has only lowercase\n",
    "    else:\n",
    "        password = ''\n",
    "        if ignored_chars:\n",
    "            for c in ignored_chars:\n",
    "                lowers = lowers.replace(c, '')\n",
    "\n",
    "            for i in range(password_length):            \n",
    "                char = choice(lowers)\n",
    "                password += char\n",
    "\n",
    "        elif allowed_chars:\n",
    "            for i in range(password_length):\n",
    "                char = choice(allowed_chars)\n",
    "                password += char\n",
    "\n",
    "        else: \n",
    "            for i in range(password_length):\n",
    "                char = choice(lowers)\n",
    "                password += char\n",
    "    \n",
    "    return password"
   ]
  },
  {
   "cell_type": "code",
   "execution_count": 10,
   "metadata": {},
   "outputs": [
    {
     "data": {
      "text/plain": [
       "'hcjecygz'"
      ]
     },
     "execution_count": 10,
     "metadata": {},
     "output_type": "execute_result"
    }
   ],
   "source": [
    "password = generate_password()\n",
    "password"
   ]
  },
  {
   "cell_type": "code",
   "execution_count": 13,
   "metadata": {},
   "outputs": [
    {
     "name": "stdout",
     "output_type": "stream",
     "text": [
      "+ The function returns a string.\n",
      "+ The password generated was the correct length.\n",
      "+ The implementation returns a different password with each call.\n",
      "+ The password contained a symbol when required. The password generated was ;)\n",
      "+ The password contained an uppercase letter when required. The password generated was )C\n",
      "+ The generator raises a UserWarning when both ignored and allowed chars are provided.\n",
      "+ When generating a password with 1 million characters, the execution time was 0.60 seconds.\n",
      "+ Only allowed characters were found in a password when allowed_chars was provided.\n",
      "+ No ignored characters were found in a password when ignored_chars was provided.\n",
      "\n",
      "===  Your score is 100%  === \n",
      "\n",
      "* You have completed all the basic requirements, and have successfully qualified for the code jam.\n",
      "* You have completed all the bonus requirements, and will be considered an advanced user.\n"
     ]
    }
   ],
   "source": [
    "! python tests.py"
   ]
  },
  {
   "cell_type": "code",
   "execution_count": 14,
   "metadata": {},
   "outputs": [
    {
     "name": "stderr",
     "output_type": "stream",
     "text": [
      "All done! \\u2728 \\U0001f370 \\u2728\n",
      "1 file left unchanged.\n"
     ]
    }
   ],
   "source": [
    "! black qualifier.py"
   ]
  }
 ],
 "metadata": {
  "kernelspec": {
   "display_name": "Python 3",
   "language": "python",
   "name": "python3"
  },
  "language_info": {
   "codemirror_mode": {
    "name": "ipython",
    "version": 3
   },
   "file_extension": ".py",
   "mimetype": "text/x-python",
   "name": "python",
   "nbconvert_exporter": "python",
   "pygments_lexer": "ipython3",
   "version": "3.7.1"
  }
 },
 "nbformat": 4,
 "nbformat_minor": 2
}
